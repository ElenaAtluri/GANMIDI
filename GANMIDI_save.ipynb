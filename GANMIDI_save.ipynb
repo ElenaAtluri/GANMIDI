{
 "cells": [
  {
   "cell_type": "code",
   "execution_count": 1,
   "metadata": {},
   "outputs": [],
   "source": [
    "import tensorflow as tf\n",
    "import numpy as np\n",
    "import matplotlib.pyplot as plt\n",
    "import matplotlib.gridspec as gridspec\n",
    "import os\n",
    "from os import listdir\n",
    "import glob\n",
    "import pretty_midi\n",
    "import librosa\n",
    "\n",
    "import midi_manipulation"
   ]
  },
  {
   "cell_type": "code",
   "execution_count": 2,
   "metadata": {},
   "outputs": [],
   "source": [
    "def get_songs(path):\n",
    "    files = glob.glob('{}/*.mid*'.format(path))\n",
    "    songs = []\n",
    "    for f in files:\n",
    "        try:\n",
    "            song = np.array(midi_manipulation.midiToNoteStateMatrix(f))\n",
    "            if np.array(song).shape[0] > 50:\n",
    "                songs.append(song)\n",
    "        except Exception as e:\n",
    "            raise e           \n",
    "    return songs"
   ]
  },
  {
   "cell_type": "code",
   "execution_count": 3,
   "metadata": {},
   "outputs": [],
   "source": [
    "def get_chromas(songs):\n",
    "    chromas = []\n",
    "    for song in songs: \n",
    "        chroma = np.zeros(shape=(np.shape(song)[0], 12))\n",
    "        for i in range(np.shape(song)[0]):\n",
    "            for j in range(78):\n",
    "                if song[i][j] == 1:\n",
    "                    chroma[i][np.mod(j,12)] += 1\n",
    "        chromas.append(chroma)\n",
    "                \n",
    "    return chromas"
   ]
  },
  {
   "cell_type": "code",
   "execution_count": 4,
   "metadata": {},
   "outputs": [
    {
     "name": "stdout",
     "output_type": "stream",
     "text": [
      "122 songs processed\n",
      "122 songs processed\n"
     ]
    }
   ],
   "source": [
    "songs = get_songs('Pop_Music_Midi')\n",
    "chromas = get_chromas(songs)\n",
    "print (\"{} songs processed\".format(len(songs)))\n",
    "print (\"{} songs processed\".format(len(chromas)))"
   ]
  },
  {
   "cell_type": "code",
   "execution_count": 5,
   "metadata": {},
   "outputs": [
    {
     "name": "stdout",
     "output_type": "stream",
     "text": [
      "(385, 12)\n"
     ]
    }
   ],
   "source": [
    "print(np.shape(chromas[1]))"
   ]
  },
  {
   "cell_type": "code",
   "execution_count": 6,
   "metadata": {},
   "outputs": [],
   "source": [
    "lowest_note = midi_manipulation.lowerBound #the index of the lowest note on the piano roll\n",
    "highest_note = midi_manipulation.upperBound #the index of the highest note on the piano roll\n",
    "note_range = highest_note-lowest_note #the note range\n",
    "\n",
    "num_timesteps  = 64 #This is the number of timesteps that we will create at a time\n",
    "n_visible      = 2*note_range*num_timesteps #This is the size of the visible layer. \n",
    "n_hidden       = 50 #This is the size of the hidden layer\n",
    "\n",
    "X_dim = n_visible #mnist.train.images.shape[1]\n",
    "Z_dim = 12*num_timesteps"
   ]
  },
  {
   "cell_type": "code",
   "execution_count": 7,
   "metadata": {},
   "outputs": [],
   "source": [
    "def xavier_init(size):\n",
    "    in_dim = size[0]\n",
    "    xavier_stddev = 1. / tf.sqrt(in_dim / 2.)\n",
    "    return tf.random_normal(shape=size, stddev=xavier_stddev)"
   ]
  },
  {
   "cell_type": "code",
   "execution_count": 8,
   "metadata": {},
   "outputs": [],
   "source": [
    "X = tf.placeholder(tf.float32, shape=[None, X_dim])\n",
    "\n",
    "# D_W1 = tf.Variable(xavier_init([784, 999]))\n",
    "D_W1 = tf.Variable(xavier_init([X_dim+Z_dim, 999]))\n",
    "D_b1 = tf.Variable(tf.zeros(shape=[999]))\n",
    "\n",
    "D_W2 = tf.Variable(xavier_init([999, 1]))\n",
    "D_b2 = tf.Variable(tf.zeros(shape=[1]))\n",
    "\n",
    "theta_D = [D_W1, D_W2, D_b1, D_b2]"
   ]
  },
  {
   "cell_type": "code",
   "execution_count": 9,
   "metadata": {},
   "outputs": [],
   "source": [
    "# set Z\n",
    "Z = tf.placeholder(tf.float32, shape=[None, Z_dim])\n",
    "\n",
    "G_W1 = tf.Variable(xavier_init([Z_dim, 999]))\n",
    "G_b1 = tf.Variable(tf.zeros(shape=[999]))\n",
    "\n",
    "G_W2 = tf.Variable(xavier_init([999, X_dim]))\n",
    "G_b2 = tf.Variable(tf.zeros(shape=[X_dim]))\n",
    "\n",
    "theta_G = [G_W1, G_W2, G_b1, G_b2]"
   ]
  },
  {
   "cell_type": "code",
   "execution_count": 10,
   "metadata": {},
   "outputs": [],
   "source": [
    "# def sample_Z(m, n):\n",
    "#     return np.random.uniform(-1., 1., size=[m, n])"
   ]
  },
  {
   "cell_type": "code",
   "execution_count": 11,
   "metadata": {},
   "outputs": [],
   "source": [
    "def generator(z):\n",
    "    G_h1 = tf.nn.relu(tf.matmul(z, G_W1) + G_b1)\n",
    "    G_log_prob = tf.matmul(G_h1, G_W2) + G_b2\n",
    "    G_prob = tf.nn.sigmoid(G_log_prob)\n",
    "\n",
    "    return G_prob"
   ]
  },
  {
   "cell_type": "code",
   "execution_count": 12,
   "metadata": {},
   "outputs": [],
   "source": [
    "def discriminator(x,c):\n",
    "    D_h1 = tf.nn.relu(tf.matmul(tf.concat([x,c],1), D_W1) + D_b1)\n",
    "    D_logit = tf.matmul(D_h1, D_W2) + D_b2\n",
    "    D_prob = tf.nn.sigmoid(D_logit)\n",
    "\n",
    "    return D_prob, D_logit"
   ]
  },
  {
   "cell_type": "code",
   "execution_count": 13,
   "metadata": {},
   "outputs": [],
   "source": [
    "def plot(samples):\n",
    "    fig = plt.figure(figsize=(4, 4))\n",
    "    gs = gridspec.GridSpec(4, 4)\n",
    "    gs.update(wspace=0.05, hspace=0.05)\n",
    "\n",
    "    for i, sample in enumerate(samples):\n",
    "        ax = plt.subplot(gs[i])\n",
    "        plt.axis('off')\n",
    "        ax.set_xticklabels([])\n",
    "        ax.set_yticklabels([])\n",
    "        ax.set_aspect('equal')\n",
    "#         plt.imshow(sample.reshape(28, 28), cmap='Greys_r')\n",
    "        plt.imshow(sample.reshape(78, 30), cmap='Greys_r')\n",
    "\n",
    "\n",
    "    return fig"
   ]
  },
  {
   "cell_type": "code",
   "execution_count": 14,
   "metadata": {},
   "outputs": [
    {
     "name": "stdout",
     "output_type": "stream",
     "text": [
      "(?, 768)\n"
     ]
    }
   ],
   "source": [
    "print (np.shape(Z))"
   ]
  },
  {
   "cell_type": "code",
   "execution_count": 15,
   "metadata": {},
   "outputs": [],
   "source": [
    "G_sample = generator(Z)"
   ]
  },
  {
   "cell_type": "code",
   "execution_count": 16,
   "metadata": {},
   "outputs": [
    {
     "name": "stdout",
     "output_type": "stream",
     "text": [
      "78\n"
     ]
    }
   ],
   "source": [
    "print(note_range)"
   ]
  },
  {
   "cell_type": "code",
   "execution_count": 17,
   "metadata": {},
   "outputs": [],
   "source": [
    "D_real, D_logit_real = discriminator(X,Z)"
   ]
  },
  {
   "cell_type": "code",
   "execution_count": 21,
   "metadata": {},
   "outputs": [],
   "source": [
    "D_fake, D_logit_fake = discriminator(G_sample,Z)"
   ]
  },
  {
   "cell_type": "code",
   "execution_count": 22,
   "metadata": {},
   "outputs": [],
   "source": [
    "# D_loss = -tf.reduce_mean(tf.log(D_real) + tf.log(1. - D_fake))\n",
    "# G_loss = -tf.reduce_mean(tf.log(D_fake))\n",
    "\n",
    "# Alternative losses:\n",
    "# -------------------\n",
    "D_loss_real = tf.reduce_mean(tf.nn.sigmoid_cross_entropy_with_logits(logits=D_logit_real, labels=tf.ones_like(D_logit_real)))\n",
    "D_loss_fake = tf.reduce_mean(tf.nn.sigmoid_cross_entropy_with_logits(logits=D_logit_fake, labels=tf.zeros_like(D_logit_fake)))\n",
    "D_loss = D_loss_real + D_loss_fake\n",
    "G_loss = tf.reduce_mean(tf.nn.sigmoid_cross_entropy_with_logits(logits=D_logit_fake, labels=tf.ones_like(D_logit_fake)))\n"
   ]
  },
  {
   "cell_type": "code",
   "execution_count": 25,
   "metadata": {},
   "outputs": [],
   "source": [
    "D_solver = tf.train.AdamOptimizer().minimize(D_loss, var_list=theta_D)\n",
    "G_solver = tf.train.AdamOptimizer().minimize(G_loss, var_list=theta_G)"
   ]
  },
  {
   "cell_type": "code",
   "execution_count": 26,
   "metadata": {},
   "outputs": [],
   "source": [
    "if not os.path.exists('out/'):\n",
    "    os.makedirs('out/')"
   ]
  },
  {
   "cell_type": "code",
   "execution_count": 27,
   "metadata": {},
   "outputs": [],
   "source": [
    "sess = tf.Session()\n",
    "sess.run(tf.global_variables_initializer())"
   ]
  },
  {
   "cell_type": "code",
   "execution_count": 28,
   "metadata": {},
   "outputs": [],
   "source": [
    "# for song in songs:\n",
    "#         # The songs are stored in a time x notes format. The size of each song is timesteps_in_song x 2*note_range\n",
    "#         # Here we reshape the songs so that each training example is a vector with num_timesteps x 2*note_range elements\n",
    "#         song = np.array(song)\n",
    "#         song = song[:np.floor(song.shape[0]/num_timesteps).astype(int)*num_timesteps]\n",
    "#         song = np.reshape(song, [int(song.shape[0]/num_timesteps), song.shape[1]*num_timesteps])\n",
    "#         # Train the RBM on batch_size examples at a time"
   ]
  },
  {
   "cell_type": "code",
   "execution_count": 29,
   "metadata": {},
   "outputs": [],
   "source": [
    "# i = 0"
   ]
  },
  {
   "cell_type": "code",
   "execution_count": 30,
   "metadata": {},
   "outputs": [
    {
     "name": "stdout",
     "output_type": "stream",
     "text": [
      "257 12\n",
      "257 156\n"
     ]
    }
   ],
   "source": [
    "print(chromas[0].shape[0], chromas[0].shape[1])\n",
    "print(songs[0].shape[0], songs[0].shape[1])"
   ]
  },
  {
   "cell_type": "code",
   "execution_count": 31,
   "metadata": {},
   "outputs": [],
   "source": [
    "# for it in range(1000000):\n",
    "#     if it % 1000 == 0:\n",
    "#         samples = sess.run(G_sample, feed_dict={Z: sample_Z(16, Z_dim)})\n",
    "        \n",
    "# #        fig = plot(samples)\n",
    "# #        plt.savefig('out/{}.png'.format(str(i).zfill(3)), bbox_inches='tight')\n",
    "# #        i += 1\n",
    "# #        plt.close(fig)\n",
    "        \n",
    "# #         S = np.reshape(samples, (num_timesteps, 2*note_range))\n",
    "# #         thresh_S = S>=0.5\n",
    "# #         midi_manipulation.noteStateMatrixToMidi(thresh_S, \"out/generated_chord_{}\".format(i))\n",
    "\n",
    "\n",
    "#     _, D_loss_curr = sess.run([D_solver, D_loss], feed_dict={X: X_mb, Z: sample_Z(mb_size, Z_dim)})\n",
    "#     _, G_loss_curr = sess.run([G_solver, G_loss], feed_dict={Z: sample_Z(mb_size, Z_dim)})\n",
    "\n",
    "#     if it % 1000 == 0:\n",
    "#         print('Iter: {}'.format(it))\n",
    "#         print('D loss: {:.4}'. format(D_loss_curr))\n",
    "#         print('G_loss: {:.4}'.format(G_loss_curr))\n",
    "#         print()"
   ]
  },
  {
   "cell_type": "code",
   "execution_count": null,
   "metadata": {},
   "outputs": [
    {
     "data": {
      "image/png": "[encoded data removed]",
      "text/plain": [
       "<Figure size 864x144 with 2 Axes>"
      ]
     },
     "metadata": {
      "image/png": {
       "height": 135,
       "width": 702
      },
      "needs_background": "light"
     },
     "output_type": "display_data"
    },
    {
     "data": {
      "image/png": "[encoded data removed]",
      "text/plain": [
       "<Figure size 864x144 with 2 Axes>"
      ]
     },
     "metadata": {
      "image/png": {
       "height": 135,
       "width": 702
      },
      "needs_background": "light"
     },
     "output_type": "display_data"
    }
   ],
   "source": [
    "i = 0\n",
    "num_epochs = 1000000\n",
    "batch_size = 1\n",
    "\n",
    "while i <= num_epochs:\n",
    "    for song, chroma in zip(songs, chromas):\n",
    "        # The songs are stored in a time x notes format. The size of each song is timesteps_in_song x 2*note_range\n",
    "        # Here we reshape the songs so that each training example is a vector with num_timesteps x 2*note_range elements\n",
    "       \n",
    "    \n",
    "        song = np.array(song)\n",
    "        \n",
    "        #print(i, np.shape(song))\n",
    "        \n",
    "        song = song[:np.floor(song.shape[0]/num_timesteps).astype(int)*num_timesteps]\n",
    "        song = np.reshape(song, [int(song.shape[0]/num_timesteps), song.shape[1]*num_timesteps])\n",
    "        \n",
    "        chroma = np.array(chroma)\n",
    "        #print(i, np.shape(chroma))\n",
    "\n",
    "        chroma = chroma[:np.floor(chroma.shape[0]/num_timesteps).astype(int)*num_timesteps]\n",
    "        chroma = np.reshape(chroma, [int(chroma.shape[0]/num_timesteps), chroma.shape[1]*num_timesteps])\n",
    "        \n",
    "#         print(i, np.shape(song),np.shape(chroma), len(song), len(chroma))\n",
    "        \n",
    "        # Train the RBM on batch_size examples at a time\n",
    "        for ind in range(0, len(song), batch_size): \n",
    "            X_mb = song[ind:ind+batch_size]\n",
    "            ch = chroma[ind:ind+batch_size]\n",
    "#            _, loss = sess.run([solver, vae_loss], feed_dict={X: X_mb})\n",
    "            _, D_loss_curr = sess.run([D_solver, D_loss], feed_dict={X: X_mb, Z: ch})\n",
    "            _, G_loss_curr = sess.run([G_solver, G_loss], feed_dict={Z: ch})\n",
    "    \n",
    "            if i % 1000 == 0:\n",
    "               # print('Iter: {}'.format(i))\n",
    "               # print('Loss: {:.4}'. format(loss))\n",
    "\n",
    "#             samples = sess.run(X_samples, feed_dict={z: np.random.randn(1,z_dim)})\n",
    "                samples = sess.run(G_sample, feed_dict={Z: ch})\n",
    "#                 print(np.shape(samples), np.shape(ch))\n",
    "        \n",
    "                S = np.reshape(samples, (num_timesteps, 2*note_range))\n",
    "                thresh_S = S>=0.5\n",
    "                plt.figure(figsize=(12,2))\n",
    "                plt.subplot(1,2,1)\n",
    "                plt.imshow(S)\n",
    "                plt.subplot(1,2,2)\n",
    "                plt.imshow(thresh_S)\n",
    "                plt.tight_layout()\n",
    "                plt.pause(0.1)\n",
    "                midi_manipulation.noteStateMatrixToMidi(thresh_S, \"out/generated_chord_{}\".format(i))\n",
    "#                 print(i)\n",
    "            i += 1"
   ]
  },
  {
   "cell_type": "code",
   "execution_count": null,
   "metadata": {},
   "outputs": [],
   "source": [
    "print(np.shape(chromas[1]))"
   ]
  },
  {
   "cell_type": "code",
   "execution_count": null,
   "metadata": {},
   "outputs": [],
   "source": [
    "test_song = get_songs('test')\n",
    "test_chroma = get_chromas(test_song)[0]"
   ]
  },
  {
   "cell_type": "code",
   "execution_count": null,
   "metadata": {},
   "outputs": [],
   "source": [
    "#here should come a chroma from a new song: read a new file, extract chroma and plug into generator\n",
    "#Since we do not have yet a new song, let's just reuse existing chroma\n",
    "# test_chroma = test_chroma[:np.floor(test_chroma.shape[0]/num_timesteps).astype(int)*num_timesteps]\n",
    "# test_chroma = np.reshape(test_chroma, [int(test_chroma.shape[0]/num_timesteps), test_chroma.shape[1]*num_timesteps])\n",
    "\n",
    "test_chroma = np.array(test_chroma)\n",
    "print(i, np.shape(test_chroma))\n",
    "    \n",
    "\n",
    "test_chroma = test_chroma[:np.floor(test_chroma.shape[0]/num_timesteps).astype(int)*num_timesteps]\n",
    "test_chroma = np.reshape(test_chroma, [int(test_chroma.shape[0]/num_timesteps), test_chroma.shape[1]*num_timesteps])\n",
    "        \n",
    "samples = sess.run(G_sample, feed_dict={Z: test_chroma})\n",
    "print(np.shape(test_chroma),np.shape(samples))"
   ]
  },
  {
   "cell_type": "code",
   "execution_count": null,
   "metadata": {},
   "outputs": [],
   "source": [
    "print(np.floor(samples.shape[0]*samples.shape[1]/2/note_range).astype(int))"
   ]
  },
  {
   "cell_type": "code",
   "execution_count": null,
   "metadata": {},
   "outputs": [],
   "source": [
    "S = np.reshape(samples, (np.floor(samples.shape[0]*samples.shape[1]/2/note_range).astype(int), 2*note_range))\n",
    "\n",
    "thresh_S = S>=0.5\n",
    "plt.figure(figsize=(12,2))\n",
    "plt.subplot(1,2,1)\n",
    "plt.imshow(S)\n",
    "plt.subplot(1,2,2)\n",
    "plt.imshow(thresh_S)\n",
    "plt.tight_layout()\n",
    "plt.pause(0.1)\n",
    "midi_manipulation.noteStateMatrixToMidi(thresh_S, \"out/canon\")\n",
    "#                 print(i)"
   ]
  }
 ],
 "metadata": {
  "kernelspec": {
   "display_name": "Python 3",
   "language": "python",
   "name": "python3"
  },
  "language_info": {
   "codemirror_mode": {
    "name": "ipython",
    "version": 3
   },
   "file_extension": ".py",
   "mimetype": "text/x-python",
   "name": "python",
   "nbconvert_exporter": "python",
   "pygments_lexer": "ipython3",
   "version": "3.5.2"
  }
 },
 "nbformat": 4,
 "nbformat_minor": 2
}
